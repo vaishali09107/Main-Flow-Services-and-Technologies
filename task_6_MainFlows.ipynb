{
 "cells": [
  {
   "cell_type": "code",
   "execution_count": null,
   "id": "7603c507-520a-42a9-87b1-29b6215ad8b0",
   "metadata": {},
   "outputs": [],
   "source": [
    "import pandas as pd\n",
    "from statsmodels.tsa.arima.model import ARIMA\n",
    "from datetime import datetime\n",
    "\n",
    "data = pd.read_csv('disney_plus_titles.csv')\n",
    "\n",
    "data['date_added'] = pd.to_datetime(data['date_added'])\n",
    "\n",
    "monthly_data = data.resample('M')['show_id'].count()\n",
    "\n",
    "model = ARIMA(monthly_data, order=(2, 1, 1))\n",
    "\n",
    "model_fit = model.fit()\n",
    "\n",
    "forecast = model_fit.forecast(steps=3)\n",
    "\n",
    "print(forecast)\n"
   ]
  },
  {
   "cell_type": "code",
   "execution_count": null,
   "id": "b4b131e5-00ce-4900-8c6e-5b4902185fb9",
   "metadata": {},
   "outputs": [],
   "source": [
    "from textblob import TextBlob\n",
    "\n",
    "positive_words = ['excellent', 'loved', 'recommend']\n",
    "negative_words = ['terrible', 'boring', 'disappointed']\n",
    "\n",
    "description = \"This show is amazing! Highly recommend it.\"\n",
    "\n",
    "blob = TextBlob(description)\n",
    "sentiment = ''\n",
    "\n",
    "if any(word in description for word in positive_words):\n",
    "    sentiment = 'Positive'\n",
    "elif any(word in description for word in negative_words):\n",
    "    sentiment = 'Negative'\n",
    "else:\n",
    "    sentiment = 'Neutral'\n",
    "\n",
    "print(f\"Sentiment: {sentiment}\")\n"
   ]
  },
  {
   "cell_type": "code",
   "execution_count": null,
   "id": "d9bf84cb-d8c9-42b3-b3bc-64b8c43306ec",
   "metadata": {},
   "outputs": [],
   "source": [
    "from sklearn.cluster import KMeans\n",
    "from sklearn.feature_extraction.text import TfidfVectorizer\n",
    "\n",
    "shows = [\n",
    "    {'genres': ['Comedy', 'Romance']},\n",
    "    {'genres': ['Action', 'Thriller']},\n",
    "    {'genres': ['Drama', 'Sci-Fi']},\n",
    "]\n",
    "\n",
    "vectorizer = TfidfVectorizer()\n",
    "\n",
    "genre_vectors = vectorizer.fit_transform([show['genres'] for show in shows])\n",
    "\n",
    "k = 2\n",
    "\n",
    "kmeans = KMeans(n_clusters=k)\n",
    "kmeans.fit(genre_vectors)\n",
    "\n",
    "cluster_labels = kmeans.predict(genre_vectors)\n",
    "\n",
    "for i, show in enumerate(shows):\n",
    "    print(f\"Show {i+1}: Genre(s) - {show['genres']}, Cluster - {cluster_labels[i]}\")\n"
   ]
  }
 ],
 "metadata": {
  "kernelspec": {
   "display_name": "Python 3 (ipykernel)",
   "language": "python",
   "name": "python3"
  },
  "language_info": {
   "codemirror_mode": {
    "name": "ipython",
    "version": 3
   },
   "file_extension": ".py",
   "mimetype": "text/x-python",
   "name": "python",
   "nbconvert_exporter": "python",
   "pygments_lexer": "ipython3",
   "version": "3.12.3"
  }
 },
 "nbformat": 4,
 "nbformat_minor": 5
}
