{
 "cells": [
  {
   "cell_type": "raw",
   "id": "eee32726-dfdd-451c-b936-7965b0229263",
   "metadata": {},
   "source": [
    "List "
   ]
  },
  {
   "cell_type": "code",
   "execution_count": null,
   "id": "9910fc0e-9b40-4abe-a4f1-bbaff6f8da46",
   "metadata": {},
   "outputs": [],
   "source": [
    "l1=[2,4,5,6,7]\n",
    "print('List :',l1)"
   ]
  },
  {
   "cell_type": "code",
   "execution_count": 2,
   "id": "f0e6f838-16dd-44bf-a3c4-519103caedb3",
   "metadata": {},
   "outputs": [],
   "source": [
    "l1.append(8)"
   ]
  },
  {
   "cell_type": "code",
   "execution_count": 3,
   "id": "11cf4d91-52fa-4992-9e95-1ce965cd37ef",
   "metadata": {},
   "outputs": [
    {
     "name": "stdout",
     "output_type": "stream",
     "text": [
      "[2, 4, 5, 6, 7, 8]\n"
     ]
    }
   ],
   "source": [
    "print(l1)"
   ]
  },
  {
   "cell_type": "code",
   "execution_count": 4,
   "id": "8345bf73-626b-4d0a-bfeb-8921e78751af",
   "metadata": {},
   "outputs": [],
   "source": [
    "l1.remove(5)"
   ]
  },
  {
   "cell_type": "code",
   "execution_count": 5,
   "id": "80ff17de-df8d-4558-b640-3460235558b8",
   "metadata": {},
   "outputs": [
    {
     "name": "stdout",
     "output_type": "stream",
     "text": [
      "Modified Length: [10, 4, 6, 7, 8]\n"
     ]
    }
   ],
   "source": [
    "l1[0]=10\n",
    "print('Modified Length:',l1)"
   ]
  },
  {
   "cell_type": "raw",
   "id": "753ed3d0-62cc-45bd-875b-cdb267f51ef0",
   "metadata": {},
   "source": [
    "Dictionary"
   ]
  },
  {
   "cell_type": "code",
   "execution_count": 6,
   "id": "1c94cf43-40ef-4584-9d3e-4534183a9575",
   "metadata": {},
   "outputs": [
    {
     "name": "stdout",
     "output_type": "stream",
     "text": [
      "Dictionary: {'a': 1, 'b': 2, 'c': 3}\n"
     ]
    }
   ],
   "source": [
    "D1={'a':1,'b':2,'c':3}\n",
    "print('Dictionary:',D1)"
   ]
  },
  {
   "cell_type": "code",
   "execution_count": 7,
   "id": "a1a65726-bd91-4eaa-a74d-5c0119af09fa",
   "metadata": {},
   "outputs": [],
   "source": [
    "D1['d']=4"
   ]
  },
  {
   "cell_type": "code",
   "execution_count": 8,
   "id": "b80e1025-2350-470f-8b8f-95da8be33ab2",
   "metadata": {},
   "outputs": [],
   "source": [
    "del D1['b']"
   ]
  },
  {
   "cell_type": "code",
   "execution_count": 9,
   "id": "4c79a9cf-7733-46dd-9488-13e7de98dd00",
   "metadata": {},
   "outputs": [
    {
     "name": "stdout",
     "output_type": "stream",
     "text": [
      "Modified Dictionary: {'a': 100, 'c': 3, 'd': 4}\n"
     ]
    }
   ],
   "source": [
    "D1['a']=100\n",
    "print('Modified Dictionary:',D1)"
   ]
  },
  {
   "cell_type": "raw",
   "id": "0678913d-1fc1-42f8-98be-ff0a70102118",
   "metadata": {},
   "source": [
    "SET"
   ]
  },
  {
   "cell_type": "code",
   "execution_count": 11,
   "id": "b59bb0d3-2530-44ba-bfb9-e55eaa8c0231",
   "metadata": {},
   "outputs": [
    {
     "name": "stdout",
     "output_type": "stream",
     "text": [
      "original set: {1, 2, 3, 4, 5}\n"
     ]
    }
   ],
   "source": [
    "S={1,2,3,4,5}\n",
    "print('original set:',S)"
   ]
  },
  {
   "cell_type": "code",
   "execution_count": 12,
   "id": "6ef37121-3dc6-4b31-b67b-a1ec6071df07",
   "metadata": {},
   "outputs": [],
   "source": [
    "S.add(6)"
   ]
  },
  {
   "cell_type": "code",
   "execution_count": 13,
   "id": "64463327-a3a1-460f-8a85-9861061e9fba",
   "metadata": {},
   "outputs": [
    {
     "name": "stdout",
     "output_type": "stream",
     "text": [
      "Updated set: {1, 2, 4, 5, 6}\n"
     ]
    }
   ],
   "source": [
    "S.remove(3)\n",
    "print('Updated set:',S)"
   ]
  },
  {
   "cell_type": "code",
   "execution_count": null,
   "id": "d810612a-835e-4876-beb5-1dedc9f09e5e",
   "metadata": {},
   "outputs": [],
   "source": []
  }
 ],
 "metadata": {
  "kernelspec": {
   "display_name": "Python 3 (ipykernel)",
   "language": "python",
   "name": "python3"
  },
  "language_info": {
   "codemirror_mode": {
    "name": "ipython",
    "version": 3
   },
   "file_extension": ".py",
   "mimetype": "text/x-python",
   "name": "python",
   "nbconvert_exporter": "python",
   "pygments_lexer": "ipython3",
   "version": "3.12.3"
  }
 },
 "nbformat": 4,
 "nbformat_minor": 5
}
